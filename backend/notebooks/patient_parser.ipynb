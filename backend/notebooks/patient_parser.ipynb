{
 "cells": [
  {
   "cell_type": "code",
   "execution_count": 4,
   "id": "77462273",
   "metadata": {},
   "outputs": [],
   "source": [
    "from pdf2image import convert_from_path"
   ]
  },
  {
   "cell_type": "code",
   "execution_count": 5,
   "id": "05289d82",
   "metadata": {},
   "outputs": [],
   "source": [
    "import pytesseract"
   ]
  },
  {
   "cell_type": "code",
   "execution_count": 6,
   "id": "af54edfe",
   "metadata": {},
   "outputs": [],
   "source": [
    "import numpy as np\n",
    "import cv2"
   ]
  },
  {
   "cell_type": "code",
   "execution_count": 20,
   "id": "f8964f3d",
   "metadata": {},
   "outputs": [
    {
     "data": {
      "text/plain": [
       "[<PIL.PpmImagePlugin.PpmImageFile image mode=RGB size=1500x2000>,\n",
       " <PIL.PpmImagePlugin.PpmImageFile image mode=RGB size=1992x2000>]"
      ]
     },
     "execution_count": 20,
     "metadata": {},
     "output_type": "execute_result"
    }
   ],
   "source": [
    "pages = convert_from_path('/Users/shikhabharati/Desktop/Python/medicalProject/backend/resources/patient_details/pd_2.pdf')\n",
    "pages"
   ]
  },
  {
   "cell_type": "code",
   "execution_count": 21,
   "id": "1c07e3ae",
   "metadata": {},
   "outputs": [
    {
     "name": "stdout",
     "output_type": "stream",
     "text": [
      "i 2\n",
      "\n",
      "Patient Medical Record\n",
      "\n",
      "Patient Information\n",
      "Jerry Lucas\n",
      "\n",
      "(279) 920-8204\n",
      "4218 Wheeler Ridge Dr\n",
      "\n",
      "Buffalo, New York, 14201\n",
      "United States\n",
      "\n",
      "In Case of Emergency\n",
      "\n",
      "Birth Date\n",
      "May 2 1998\n",
      "\n",
      "Weight:\n",
      "57\n",
      "\n",
      "Height:\n",
      "170\n",
      "\n",
      "Joe Lucas\n",
      "\n",
      "Home phone\n",
      "\n",
      "General Medical History\n",
      "\n",
      "4218 Wheeler Ridge Dr\n",
      "Buffalo, New York, 14201\n",
      "United States\n",
      "\n",
      "Work phone\n",
      "\n",
      "Chicken Pox (Varicella):\n",
      "\n",
      "IMMUNE\n",
      "\n",
      "Have you had the Hepatitis B vaccination?\n",
      "\n",
      "Measles:\n",
      "\n",
      "NOT IMMUNE\n",
      "\n",
      "any Medical Problems (asthma, seizures, headaches):\n"
     ]
    }
   ],
   "source": [
    "text = pytesseract.image_to_string(pages[0], lang = 'eng')\n",
    "print(text)"
   ]
  },
  {
   "cell_type": "code",
   "execution_count": 22,
   "id": "f88557e8",
   "metadata": {},
   "outputs": [
    {
     "name": "stdout",
     "output_type": "stream",
     "text": [
      "i 2\n",
      "\n",
      "Patient Medical Record\n",
      "\n",
      "Patient Information\n",
      "Jerry Lucas\n",
      "\n",
      "(279) 920-8204\n",
      "4218 Wheeler Ridge Dr\n",
      "\n",
      "Buffalo, New York, 14201\n",
      "United States\n",
      "\n",
      "In Case of Emergency\n",
      "\n",
      "Birth Date\n",
      "May 2 1998\n",
      "\n",
      "Weight:\n",
      "57\n",
      "\n",
      "Height:\n",
      "170\n",
      "\n",
      "Joe Lucas\n",
      "\n",
      "Home phone\n",
      "\n",
      "General Medical History\n",
      "\n",
      "4218 Wheeler Ridge Dr\n",
      "Buffalo, New York, 14201\n",
      "United States\n",
      "\n",
      "Work phone\n",
      "\n",
      "Chicken Pox (Varicella):\n",
      "\n",
      "IMMUNE\n",
      "\n",
      "Have you had the Hepatitis B vaccination?\n",
      "\n",
      "Measles:\n",
      "\n",
      "NOT IMMUNE\n",
      "\n",
      "any Medical Problems (asthma, seizures, headaches):\n"
     ]
    }
   ],
   "source": [
    "text = pytesseract.image_to_string(pages[0], lang = 'eng')\n",
    "print(text)"
   ]
  },
  {
   "cell_type": "code",
   "execution_count": 8,
   "id": "99f93481",
   "metadata": {},
   "outputs": [],
   "source": [
    "def preprocess_img(img):\n",
    "    grayscale = cv2.cvtColor(np.array(img), cv2.COLOR_BGR2GRAY)\n",
    "    resized_img = cv2.resize(grayscale, None, fx=1.5, fy = 1.5, interpolation = cv2.INTER_LINEAR)\n",
    "    processed_img = cv2.adaptiveThreshold(resized_img, 255, cv2.ADAPTIVE_THRESH_GAUSSIAN_C,\n",
    "                                         cv2.THRESH_BINARY, 61,11)\n",
    "    return processed_img\n",
    "    "
   ]
  },
  {
   "cell_type": "code",
   "execution_count": 23,
   "id": "515b2279",
   "metadata": {},
   "outputs": [],
   "source": [
    "from PIL import Image\n",
    "img = preprocess_img(pages[0])\n",
    "Image.fromarray(img).show()"
   ]
  },
  {
   "cell_type": "code",
   "execution_count": 24,
   "id": "b69e097e",
   "metadata": {},
   "outputs": [
    {
     "name": "stdout",
     "output_type": "stream",
     "text": [
      "Patient Medical Record\n",
      "\n",
      "Patient Information Birth Date\n",
      "\n",
      "Jerry Lucas May 2 1998\n",
      "\n",
      "(279) 920-8204 Weight:\n",
      "\n",
      "4218 Wheeler Ridge Dr 57\n",
      "\n",
      "Buffalo, New York, 14201 Height:\n",
      "\n",
      "United States gnt\n",
      "170\n",
      "\n",
      "In Case of Emergency\n",
      "\n",
      "- eee\n",
      "\n",
      "Joe Lucas . 4218 Wheeler Ridge Dr\n",
      "Buffalo, New York, 14201\n",
      "Home phone United States\n",
      "Work phone\n",
      "\n",
      "General Medical History\n",
      "\n",
      "Chicken Pox (Varicelia): Measles: ..\n",
      "\n",
      "IMMUNE NOT IMMUNE\n",
      "\n",
      "Have you had the Hepatitis B vaccination?\n",
      "\n",
      "‘Yes\n",
      "\n",
      "| List any Medical Problems (asthma, seizures, headaches):\n",
      "N/A\n",
      "\n",
      "7?\n",
      "v\n",
      "\n",
      "17/12/2020\n"
     ]
    }
   ],
   "source": [
    "text = pytesseract.image_to_string(img, lang = 'eng')\n",
    "print(text)"
   ]
  },
  {
   "cell_type": "code",
   "execution_count": 1,
   "id": "a27286a4",
   "metadata": {},
   "outputs": [],
   "source": [
    "import re"
   ]
  },
  {
   "cell_type": "code",
   "execution_count": 34,
   "id": "8578f782",
   "metadata": {},
   "outputs": [
    {
     "data": {
      "text/plain": [
       "'Jerry Lucas May 2 1998'"
      ]
     },
     "execution_count": 34,
     "metadata": {},
     "output_type": "execute_result"
    }
   ],
   "source": [
    "pattern = 'Patient Information(.*?)\\(\\d{3}\\)'\n",
    "match = re.findall(pattern, text, flags = re.DOTALL)\n",
    "# match[0].strip()\n",
    "match = match[0].replace('Birth Date', '').strip()\n",
    "# name = match[0].strip()\n",
    "match"
   ]
  },
  {
   "cell_type": "code",
   "execution_count": 29,
   "id": "33b6c935",
   "metadata": {},
   "outputs": [
    {
     "ename": "TypeError",
     "evalue": "expected string or bytes-like object",
     "output_type": "error",
     "traceback": [
      "\u001b[0;31m---------------------------------------------------------------------------\u001b[0m",
      "\u001b[0;31mTypeError\u001b[0m                                 Traceback (most recent call last)",
      "\u001b[1;32m/Users/shikhabharati/Desktop/Python/medicalProject/backend/notebooks/patient_parser.ipynb Cell 12'\u001b[0m in \u001b[0;36m<cell line: 2>\u001b[0;34m()\u001b[0m\n\u001b[1;32m      <a href='vscode-notebook-cell:/Users/shikhabharati/Desktop/Python/medicalProject/backend/notebooks/patient_parser.ipynb#ch0000013?line=0'>1</a>\u001b[0m date_pattern \u001b[39m=\u001b[39m \u001b[39m'\u001b[39m\u001b[39m((Jan|Feb|March|April|May|June|July|August|Sep|Oct|Nov|Dec)[ \u001b[39m\u001b[39m\\\u001b[39m\u001b[39md]+)\u001b[39m\u001b[39m'\u001b[39m\n\u001b[0;32m----> <a href='vscode-notebook-cell:/Users/shikhabharati/Desktop/Python/medicalProject/backend/notebooks/patient_parser.ipynb#ch0000013?line=1'>2</a>\u001b[0m date \u001b[39m=\u001b[39m re\u001b[39m.\u001b[39;49mfindall(pattern, match)\n\u001b[1;32m      <a href='vscode-notebook-cell:/Users/shikhabharati/Desktop/Python/medicalProject/backend/notebooks/patient_parser.ipynb#ch0000013?line=2'>3</a>\u001b[0m date\n",
      "File \u001b[0;32m/Library/Frameworks/Python.framework/Versions/3.9/lib/python3.9/re.py:241\u001b[0m, in \u001b[0;36mfindall\u001b[0;34m(pattern, string, flags)\u001b[0m\n\u001b[1;32m    233\u001b[0m \u001b[39mdef\u001b[39;00m \u001b[39mfindall\u001b[39m(pattern, string, flags\u001b[39m=\u001b[39m\u001b[39m0\u001b[39m):\n\u001b[1;32m    234\u001b[0m     \u001b[39m\"\"\"Return a list of all non-overlapping matches in the string.\u001b[39;00m\n\u001b[1;32m    235\u001b[0m \n\u001b[1;32m    236\u001b[0m \u001b[39m    If one or more capturing groups are present in the pattern, return\u001b[39;00m\n\u001b[0;32m   (...)\u001b[0m\n\u001b[1;32m    239\u001b[0m \n\u001b[1;32m    240\u001b[0m \u001b[39m    Empty matches are included in the result.\"\"\"\u001b[39;00m\n\u001b[0;32m--> 241\u001b[0m     \u001b[39mreturn\u001b[39;00m _compile(pattern, flags)\u001b[39m.\u001b[39;49mfindall(string)\n",
      "\u001b[0;31mTypeError\u001b[0m: expected string or bytes-like object"
     ]
    }
   ],
   "source": [
    "date_pattern = '((Jan|Feb|March|April|May|June|July|August|Sep|Oct|Nov|Dec)[ \\d]+)'\n",
    "date = re.findall(pattern, match)\n",
    "date"
   ]
  },
  {
   "cell_type": "code",
   "execution_count": 90,
   "id": "431498c7",
   "metadata": {},
   "outputs": [],
   "source": [
    "name = match.replace(date[0][0], '').strip()"
   ]
  },
  {
   "cell_type": "code",
   "execution_count": 27,
   "id": "77355fe2",
   "metadata": {},
   "outputs": [
    {
     "data": {
      "text/plain": [
       "'Kathy Crawford'"
      ]
     },
     "execution_count": 27,
     "metadata": {},
     "output_type": "execute_result"
    }
   ],
   "source": [
    "# name = ' Birth Date\\n\\nKathy Crawford May 6 1972\\n\\n'\n",
    "def remove_noise_from_name(name):\n",
    "    name = name.replace('Birth Date', '').strip()\n",
    "    date_pattern = '((Jan|Feb|March|April|May|June|July|August|Sep|Oct|Nov|Dec)[ \\d]+)'\n",
    "    date_matches = re.findall(date_pattern, name)\n",
    "    \n",
    "    if date_matches:\n",
    "        date = date_matches[0][0]\n",
    "        name = name.replace(date, '').strip()\n",
    "    \n",
    "    return name\n",
    "remove_noise_from_name(name)"
   ]
  },
  {
   "cell_type": "code",
   "execution_count": 26,
   "id": "b3373f0a",
   "metadata": {},
   "outputs": [
    {
     "data": {
      "text/plain": [
       "'(279) 920-8204'"
      ]
     },
     "execution_count": 26,
     "metadata": {},
     "output_type": "execute_result"
    }
   ],
   "source": [
    "pattern = 'Patient Information(.*?)(\\(\\d{3}\\) \\d{3}-\\d{4})'\n",
    "match = re.findall(pattern, text, flags=re.DOTALL)\n",
    "match[0][1]"
   ]
  },
  {
   "cell_type": "code",
   "execution_count": 119,
   "id": "3d4e4aad",
   "metadata": {},
   "outputs": [
    {
     "data": {
      "text/plain": [
       "['No']"
      ]
     },
     "execution_count": 119,
     "metadata": {},
     "output_type": "execute_result"
    }
   ],
   "source": [
    "pattern = 'Have you had the Hepatitis B vaccination\\?.*(Yes|No|yes|no)'\n",
    "match = re.findall(pattern, text, flags = re.DOTALL)\n",
    "match"
   ]
  },
  {
   "cell_type": "code",
   "execution_count": 25,
   "id": "8fc2f83a",
   "metadata": {},
   "outputs": [
    {
     "ename": "IndexError",
     "evalue": "list index out of range",
     "output_type": "error",
     "traceback": [
      "\u001b[0;31m---------------------------------------------------------------------------\u001b[0m",
      "\u001b[0;31mIndexError\u001b[0m                                Traceback (most recent call last)",
      "\u001b[1;32m/Users/shikhabharati/Desktop/Python/medicalProject/backend/notebooks/patient_parser.ipynb Cell 17'\u001b[0m in \u001b[0;36m<cell line: 3>\u001b[0;34m()\u001b[0m\n\u001b[1;32m      <a href='vscode-notebook-cell:/Users/shikhabharati/Desktop/Python/medicalProject/backend/notebooks/patient_parser.ipynb#ch0000018?line=0'>1</a>\u001b[0m pattern \u001b[39m=\u001b[39m \u001b[39m'\u001b[39m\u001b[39mList any Medical Problems \u001b[39m\u001b[39m\\\u001b[39m\u001b[39m(asthma, seizures, headaches\u001b[39m\u001b[39m\\\u001b[39m\u001b[39m}:(.*)\u001b[39m\u001b[39m'\u001b[39m\n\u001b[1;32m      <a href='vscode-notebook-cell:/Users/shikhabharati/Desktop/Python/medicalProject/backend/notebooks/patient_parser.ipynb#ch0000018?line=1'>2</a>\u001b[0m match \u001b[39m=\u001b[39m re\u001b[39m.\u001b[39mfindall(pattern, text, flags \u001b[39m=\u001b[39m re\u001b[39m.\u001b[39mDOTALL)\n\u001b[0;32m----> <a href='vscode-notebook-cell:/Users/shikhabharati/Desktop/Python/medicalProject/backend/notebooks/patient_parser.ipynb#ch0000018?line=2'>3</a>\u001b[0m \u001b[39mmatch\u001b[39;49;00m[\u001b[39m0\u001b[39;49m]\u001b[39m.\u001b[39mstrip()\n",
      "\u001b[0;31mIndexError\u001b[0m: list index out of range"
     ]
    }
   ],
   "source": [
    "pattern = 'List any Medical Problems \\(asthma, seizures, headaches\\}:(.*)'\n",
    "match = re.findall(pattern, text, flags = re.DOTALL)\n",
    "match[0].strip()"
   ]
  },
  {
   "cell_type": "code",
   "execution_count": null,
   "id": "6e191faa",
   "metadata": {},
   "outputs": [],
   "source": []
  }
 ],
 "metadata": {
  "kernelspec": {
   "display_name": "Python 3.9.13 64-bit",
   "language": "python",
   "name": "python3"
  },
  "language_info": {
   "codemirror_mode": {
    "name": "ipython",
    "version": 3
   },
   "file_extension": ".py",
   "mimetype": "text/x-python",
   "name": "python",
   "nbconvert_exporter": "python",
   "pygments_lexer": "ipython3",
   "version": "3.9.13"
  },
  "vscode": {
   "interpreter": {
    "hash": "aee8b7b246df8f9039afb4144a1f6fd8d2ca17a180786b69acc140d282b71a49"
   }
  }
 },
 "nbformat": 4,
 "nbformat_minor": 5
}
